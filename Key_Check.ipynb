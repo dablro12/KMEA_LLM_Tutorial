{
 "cells": [
  {
   "cell_type": "code",
   "execution_count": null,
   "metadata": {},
   "outputs": [],
   "source": [
    "!pip install openai langchain langchain-openai langchain-community"
   ]
  },
  {
   "cell_type": "code",
   "execution_count": 3,
   "metadata": {},
   "outputs": [],
   "source": [
    "import os, sys\n",
    "os.environ['OPENAI_API_KEY'] = \"\" #<---------------- API 키를 복사하세요"
   ]
  },
  {
   "cell_type": "code",
   "execution_count": 4,
   "metadata": {},
   "outputs": [
    {
     "name": "stdout",
     "output_type": "stream",
     "text": [
      "의사들에게 LLM은 다음과 같은 도움을 줄 수 있습니다:\n",
      "\n",
      "1. 법적 문제 해결: 의사들이 진료 중 발생할 수 있는 법적 문제나 소송에 대해 전문적인 법률 지식과 조언을 제공해 줄 수 있습니다.\n",
      "2. 의료 인권 보호: 환자의 의료 인권을 보호하고 의료법과 윤리적인 문제에 대한 이해를 높일 수 있습니다.\n",
      "3. 계약 및 협상: 의사들이 계약 및 협상을 할 때 법률적인 지식과 조언을 제공해 줄 수 있습니다.\n",
      "4. 사업 운영 및 관리: 의료 기관이나 병원을 운영하거나 관리할 때 법적인 측면에서 도움을 줄 수 있습니다.\n",
      "5. 규제 준수: 의료 분야는 다양한 법적 규제에 따라 운영되는데, LLM은 의사들이 이러한 규제를 준수하는데 도움을 줄 수 있습니다.\n",
      "\n",
      "LLM은 의사들이 법률적인 문제와 규제를 이해하고 처리하는 데 도움을 주는 중요한 도구가 될 수 있습니다.\n"
     ]
    }
   ],
   "source": [
    "from langchain_openai import ChatOpenAI\n",
    "\n",
    "# model\n",
    "llm = ChatOpenAI(model=\"gpt-3.5-turbo-0125\")\n",
    "\n",
    "# chain\n",
    "print(llm.invoke(\"의사들에게 LLM은 어떠한 도움을 줄 수 있을까?\").content)\n",
    "\n"
   ]
  },
  {
   "cell_type": "code",
   "execution_count": null,
   "metadata": {},
   "outputs": [],
   "source": []
  }
 ],
 "metadata": {
  "kernelspec": {
   "display_name": "KMEA",
   "language": "python",
   "name": "python3"
  },
  "language_info": {
   "codemirror_mode": {
    "name": "ipython",
    "version": 3
   },
   "file_extension": ".py",
   "mimetype": "text/x-python",
   "name": "python",
   "nbconvert_exporter": "python",
   "pygments_lexer": "ipython3",
   "version": "3.10.0"
  }
 },
 "nbformat": 4,
 "nbformat_minor": 2
}
